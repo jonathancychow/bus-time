{
 "cells": [
  {
   "cell_type": "code",
   "execution_count": 9,
   "metadata": {},
   "outputs": [
    {
     "name": "stdout",
     "output_type": "stream",
     "text": [
      "{'location': {'type': 'Point', 'coordinates': [-0.03627, 51.49234]}, 'stop_name': 'Dunnage Crescent', 'request_time': '2018-03-17T14:53:40+00:00', 'atcocode': '490006258W', 'indicator': '->W', 'name': 'Dunnage Crescent', 'locality': 'Surrey Quays, London', 'departures': {'199': [{'line_name': '199', 'dir': 'inbound', 'expected_departure_date': '2018-03-17', 'mode': 'bus', 'aimed_departure_time': '15:05', 'source': 'Countdown instant', 'direction': 'Canada Water', 'line': '199', 'operator': 'SK', 'operator_name': 'SOUTH EAST LONDON & KEN', 'expected_departure_time': '14:58', 'id': 'https://transportapi.com/v3/uk/bus/route/SK/199/inbound/490006258W/2018-03-17/15:05/timetable.json?app_id=68e2368a&app_key=123876d95adc4e2588a5939e7de860ef', 'date': '2018-03-17', 'best_departure_estimate': '14:58'}, {'line_name': '199', 'dir': 'inbound', 'expected_departure_date': '2018-03-17', 'mode': 'bus', 'aimed_departure_time': '15:17', 'source': 'Countdown instant', 'direction': 'Canada Water', 'line': '199', 'operator': 'SK', 'operator_name': 'SOUTH EAST LONDON & KEN', 'expected_departure_time': '15:14', 'id': 'https://transportapi.com/v3/uk/bus/route/SK/199/inbound/490006258W/2018-03-17/15:17/timetable.json?app_id=68e2368a&app_key=123876d95adc4e2588a5939e7de860ef', 'date': '2018-03-17', 'best_departure_estimate': '15:14'}]}, 'bearing': 'W', 'smscode': '74685'}\n",
      "{'199': [{'line_name': '199', 'dir': 'inbound', 'expected_departure_date': '2018-03-17', 'mode': 'bus', 'aimed_departure_time': '15:05', 'source': 'Countdown instant', 'direction': 'Canada Water', 'line': '199', 'operator': 'SK', 'operator_name': 'SOUTH EAST LONDON & KEN', 'expected_departure_time': '14:58', 'id': 'https://transportapi.com/v3/uk/bus/route/SK/199/inbound/490006258W/2018-03-17/15:05/timetable.json?app_id=68e2368a&app_key=123876d95adc4e2588a5939e7de860ef', 'date': '2018-03-17', 'best_departure_estimate': '14:58'}, {'line_name': '199', 'dir': 'inbound', 'expected_departure_date': '2018-03-17', 'mode': 'bus', 'aimed_departure_time': '15:17', 'source': 'Countdown instant', 'direction': 'Canada Water', 'line': '199', 'operator': 'SK', 'operator_name': 'SOUTH EAST LONDON & KEN', 'expected_departure_time': '15:14', 'id': 'https://transportapi.com/v3/uk/bus/route/SK/199/inbound/490006258W/2018-03-17/15:17/timetable.json?app_id=68e2368a&app_key=123876d95adc4e2588a5939e7de860ef', 'date': '2018-03-17', 'best_departure_estimate': '15:14'}]}\n",
      "c= 14:58\n"
     ]
    }
   ],
   "source": [
    "a={\n",
    "  \"atcocode\": \"490006258W\",\n",
    "  \"smscode\": \"74685\",\n",
    "  \"request_time\": \"2018-03-17T14:53:40+00:00\",\n",
    "  \"name\": \"Dunnage Crescent\",\n",
    "  \"stop_name\": \"Dunnage Crescent\",\n",
    "  \"bearing\": \"W\",\n",
    "  \"indicator\": \"->W\",\n",
    "  \"locality\": \"Surrey Quays, London\",\n",
    "  \"location\": {\n",
    "    \"type\": \"Point\",\n",
    "    \"coordinates\": [\n",
    "      -0.03627,\n",
    "      51.49234\n",
    "    ]\n",
    "  },\n",
    "  \"departures\": {\n",
    "    \"199\": [\n",
    "      {\n",
    "        \"mode\": \"bus\",\n",
    "        \"line\": \"199\",\n",
    "        \"line_name\": \"199\",\n",
    "        \"direction\": \"Canada Water\",\n",
    "        \"operator\": \"SK\",\n",
    "        \"date\": \"2018-03-17\",\n",
    "        \"expected_departure_date\": \"2018-03-17\",\n",
    "        \"aimed_departure_time\": \"15:05\",\n",
    "        \"expected_departure_time\": \"14:58\",\n",
    "        \"best_departure_estimate\": \"14:58\",\n",
    "        \"source\": \"Countdown instant\",\n",
    "        \"dir\": \"inbound\",\n",
    "        \"id\": \"https://transportapi.com/v3/uk/bus/route/SK/199/inbound/490006258W/2018-03-17/15:05/timetable.json?app_id=68e2368a&app_key=123876d95adc4e2588a5939e7de860ef\",\n",
    "        \"operator_name\": \"SOUTH EAST LONDON & KEN\"\n",
    "      },\n",
    "      {\n",
    "        \"mode\": \"bus\",\n",
    "        \"line\": \"199\",\n",
    "        \"line_name\": \"199\",\n",
    "        \"direction\": \"Canada Water\",\n",
    "        \"operator\": \"SK\",\n",
    "        \"date\": \"2018-03-17\",\n",
    "        \"expected_departure_date\": \"2018-03-17\",\n",
    "        \"aimed_departure_time\": \"15:17\",\n",
    "        \"expected_departure_time\": \"15:14\",\n",
    "        \"best_departure_estimate\": \"15:14\",\n",
    "        \"source\": \"Countdown instant\",\n",
    "        \"dir\": \"inbound\",\n",
    "        \"id\": \"https://transportapi.com/v3/uk/bus/route/SK/199/inbound/490006258W/2018-03-17/15:17/timetable.json?app_id=68e2368a&app_key=123876d95adc4e2588a5939e7de860ef\",\n",
    "        \"operator_name\": \"SOUTH EAST LONDON & KEN\"\n",
    "      }\n",
    "    ]\n",
    "  }\n",
    "}\n",
    "print (a)\n",
    "\n",
    "print (a[\"departures\"])\n",
    "A=a[\"departures\"][\"199\"]\n",
    "B=a[\"departures\"][\"199\"][0]\n",
    "C=a[\"departures\"][\"199\"][0][\"expected_departure_time\"]\n",
    "\n",
    "print('c=',C)\n",
    "\n",
    "import time\n",
    "from datetime import datetime\n",
    "from datetime import timedelta\n",
    "\n"
   ]
  },
  {
   "cell_type": "code",
   "execution_count": 24,
   "metadata": {},
   "outputs": [
    {
     "name": "stdout",
     "output_type": "stream",
     "text": [
      "8\n",
      "0:08:00\n"
     ]
    }
   ],
   "source": [
    "time2 = time.strftime('%H:%M %p')\n",
    "time1 = time.strftime('%H:%M %p')\n",
    "time3 = time.strftime('%H:%M')\n",
    "FMT = '%H:%M'\n",
    "\n",
    "tdelta = datetime.strptime(time3, FMT) - datetime.strptime(C, FMT)\n",
    "print(int(tdelta.seconds/60))\n",
    "print(tdelta)"
   ]
  },
  {
   "cell_type": "code",
   "execution_count": 27,
   "metadata": {},
   "outputs": [],
   "source": [
    "time_now='15:19'\n",
    "departure_time='15:25'\n",
    "time_delta = datetime.strptime(departure_time, '%H:%M') - datetime.strptime(time_now, '%H:%M')\n",
    "minute_left=int(time_delta.seconds/60)\n"
   ]
  },
  {
   "cell_type": "code",
   "execution_count": 34,
   "metadata": {},
   "outputs": [
    {
     "name": "stdout",
     "output_type": "stream",
     "text": [
      "aaaaa1\n"
     ]
    }
   ],
   "source": [
    "a='aaaaa'\n",
    "b=str(1)\n",
    "c=a+b\n",
    "print(c)"
   ]
  }
 ],
 "metadata": {
  "kernelspec": {
   "display_name": "Python 3",
   "language": "python",
   "name": "python3"
  },
  "language_info": {
   "codemirror_mode": {
    "name": "ipython",
    "version": 3
   },
   "file_extension": ".py",
   "mimetype": "text/x-python",
   "name": "python",
   "nbconvert_exporter": "python",
   "pygments_lexer": "ipython3",
   "version": "3.5.4"
  }
 },
 "nbformat": 4,
 "nbformat_minor": 2
}
